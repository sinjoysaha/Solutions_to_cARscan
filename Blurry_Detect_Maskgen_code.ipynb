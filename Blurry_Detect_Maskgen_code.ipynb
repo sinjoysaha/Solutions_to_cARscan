{
 "cells": [
  {
   "cell_type": "code",
   "execution_count": 1,
   "metadata": {},
   "outputs": [],
   "source": [
    "# import the necessary packages\n",
    "\n",
    "import cv2"
   ]
  },
  {
   "cell_type": "code",
   "execution_count": 5,
   "metadata": {},
   "outputs": [],
   "source": [
    "imgPath = 'images/view1.jpeg'\n",
    "blurry = 'blurry/image1.jpg'\n",
    "\n",
    "imagePaths = [f'images/view{i}./images/view{i}.jpeg' for i in range(1,11)]+[blurry]\n",
    "\n",
    "threshold = 100"
   ]
  },
  {
   "cell_type": "markdown",
   "metadata": {},
   "source": [
    "### Using Laplacian operator to detect blurry image"
   ]
  },
  {
   "cell_type": "code",
   "execution_count": 27,
   "metadata": {},
   "outputs": [],
   "source": [
    "def variance_of_laplacian(image):\n",
    "    # compute the Laplacian of the image and then return the focus\n",
    "    # measure, which is simply the variance of the Laplacian\n",
    "    return cv2.Laplacian(image, cv2.CV_64F).var()\n",
    "\n",
    "\n",
    "def detect_blurry(imagePath):\n",
    "    # load the image, convert it to grayscale, and compute the\n",
    "    # focus measure of the image using the Variance of Laplacian\n",
    "    # method\n",
    "    image = cv2.imread(imagePath)\n",
    "    gray = cv2.cvtColor(image, cv2.COLOR_BGR2GRAY)\n",
    "    \n",
    "    fm = variance_of_laplacian(gray)\n",
    "    \n",
    "    text = 'Not Blurry'\n",
    "    # if the focus measure is less than the supplied threshold,\n",
    "    # then the image should be considered \"blurry\"\n",
    "    if fm < threshold:\n",
    "        text = 'Blurry'  \n",
    "        \n",
    "    # resize the image if too big    \n",
    "    if image.shape[1]//4 > 400 or image.shape[0]//4 > 400 :        \n",
    "        dim = (image.shape[1]//4, image.shape[0]//4)\n",
    "        image = cv2.resize(image, dim, interpolation=cv2.INTER_AREA)\n",
    "    \n",
    "    cv2.putText(image, '{}: {:.2f}'.format(text, fm), (10, 30), cv2.FONT_HERSHEY_SIMPLEX, 0.8, (0, 0, 255), 3)\n",
    "    # show the image <- comment out to turn off \n",
    "#     cv2.imshow('Image', image)\n",
    "#     key = cv2.waitKey(0)\n",
    "    \n",
    "    # save output image\n",
    "    filename = imagePath.split('.')[-2]\n",
    "    filename = filename.split('/')[-1]\n",
    "    filename = 'output/blurry/'+filename+'.jpeg'\n",
    "    cv2.imwrite(filename, image)\n",
    "  \n",
    "    \n",
    "    return text, fm"
   ]
  },
  {
   "cell_type": "code",
   "execution_count": 28,
   "metadata": {},
   "outputs": [],
   "source": [
    "# loop over the input images\n",
    "result = []\n",
    "for ip in imagePaths:\n",
    "    text, fm = detect_blurry(ip)\n",
    "    result.append(ip + ' -> '+ text + ' ('+str(fm)+')')"
   ]
  },
  {
   "cell_type": "code",
   "execution_count": 26,
   "metadata": {},
   "outputs": [
    {
     "name": "stdout",
     "output_type": "stream",
     "text": [
      "images/view1./images/view1.jpeg -> Not Blurry (522.1364012364561)\n",
      "images/view2./images/view2.jpeg -> Not Blurry (167.56627389868947)\n",
      "images/view3./images/view3.jpeg -> Not Blurry (212.52306979666523)\n",
      "images/view4./images/view4.jpeg -> Not Blurry (360.2202692149387)\n",
      "images/view5./images/view5.jpeg -> Blurry (83.2438442684417)\n",
      "images/view6./images/view6.jpeg -> Not Blurry (212.16054984382745)\n",
      "images/view7./images/view7.jpeg -> Not Blurry (328.8413763372435)\n",
      "images/view8./images/view8.jpeg -> Not Blurry (270.1843277052043)\n",
      "images/view9./images/view9.jpeg -> Not Blurry (270.5144053417482)\n",
      "images/view10./images/view10.jpeg -> Not Blurry (165.53637893923673)\n",
      "blurry/image1.jpg -> Blurry (3.2903089202774845)\n"
     ]
    }
   ],
   "source": [
    "print(*result, sep='\\n')"
   ]
  },
  {
   "cell_type": "code",
   "execution_count": null,
   "metadata": {},
   "outputs": [],
   "source": []
  },
  {
   "cell_type": "code",
   "execution_count": 9,
   "metadata": {},
   "outputs": [
    {
     "data": {
      "text/plain": [
       "(3024, 4032, 3)"
      ]
     },
     "execution_count": 9,
     "metadata": {},
     "output_type": "execute_result"
    }
   ],
   "source": [
    "image = cv2.imread(imagePaths[0])\n",
    "image.shape"
   ]
  },
  {
   "cell_type": "markdown",
   "metadata": {},
   "source": [
    "### Code to generate mask images from json"
   ]
  },
  {
   "cell_type": "code",
   "execution_count": 3,
   "metadata": {},
   "outputs": [
    {
     "name": "stdout",
     "output_type": "stream",
     "text": [
      "\n",
      "Dict size:  10\n",
      "Images saved: 10\n"
     ]
    }
   ],
   "source": [
    "import os\n",
    "import cv2\n",
    "import json\n",
    "import numpy as np \n",
    "\n",
    "source_folder = os.path.join(os.getcwd(), \"images\")\n",
    "json_path = \"cars_json.json\"                     # Relative to root directory\n",
    "count = 0                                           # Count of total images saved\n",
    "file_bbs = {}                                       # Dictionary containing polygon coordinates for mask\n",
    "MASK_WIDTH = 4032                     # Dimensions should match those of ground truth image\n",
    "MASK_HEIGHT = 3024\n",
    "\n",
    "# Read JSON file\n",
    "with open(json_path) as f:\n",
    "    data = json.load(f)\n",
    "\n",
    "# Extract X and Y coordinates if available and update dictionary\n",
    "def add_to_dict(data, itr, key, count):\n",
    "    try:\n",
    "        x_points = data[itr][\"regions\"][count][\"shape_attributes\"][\"all_points_x\"]\n",
    "        y_points = data[itr][\"regions\"][count][\"shape_attributes\"][\"all_points_y\"]\n",
    "    except:\n",
    "        print(\"No BB. Skipping\", key)\n",
    "        return\n",
    "    \n",
    "    all_points = []\n",
    "    for i, x in enumerate(x_points):\n",
    "        all_points.append([x, y_points[i]])\n",
    "    \n",
    "    file_bbs[key] = all_points\n",
    "    \n",
    "\n",
    "for itr in data:\n",
    "    file_name_json = data[itr][\"filename\"]\n",
    "    sub_count = 0               # Contains count of masks for a single ground truth image\n",
    "    \n",
    "    if len(data[itr][\"regions\"]) > 1:\n",
    "        for _ in range(len(data[itr][\"regions\"])):\n",
    "            key = file_name_json[:-4] + \"*\" + str(sub_count+1)\n",
    "            add_to_dict(data, itr, key, sub_count)\n",
    "            sub_count += 1\n",
    "    else:\n",
    "        add_to_dict(data, itr, file_name_json[:-4], 0)\n",
    "\n",
    "\n",
    "print(\"\\nDict size: \", len(file_bbs))\n",
    "\n",
    "for file_name in os.listdir(source_folder):\n",
    "    to_save_folder = os.path.join(source_folder, file_name[:-4])\n",
    "    image_folder = os.path.join(to_save_folder, \"images\")\n",
    "    mask_folder = os.path.join(to_save_folder, \"masks\")\n",
    "    curr_img = os.path.join(source_folder, file_name)\n",
    "    \n",
    "    # make folders and copy image to new location\n",
    "    os.mkdir(to_save_folder)\n",
    "    os.mkdir(image_folder)\n",
    "    os.mkdir(mask_folder)\n",
    "    os.rename(curr_img, os.path.join(image_folder, file_name))\n",
    "        \n",
    "# For each entry in dictionary, generate mask and save in correponding \n",
    "# folder\n",
    "for itr in file_bbs:\n",
    "    num_masks = itr.split(\"*\")\n",
    "    to_save_folder = os.path.join(source_folder, num_masks[0])\n",
    "    mask_folder = os.path.join(to_save_folder, \"masks\")\n",
    "    mask = np.zeros((MASK_HEIGHT, MASK_WIDTH))\n",
    "    try:\n",
    "        arr = np.array(file_bbs[itr])\n",
    "    except:\n",
    "        print(\"Not found:\", itr)\n",
    "        continue\n",
    "    count += 1\n",
    "    cv2.fillPoly(mask, [arr], color=(255))\n",
    "    \n",
    "    if len(num_masks) > 1:\n",
    "        cv2.imwrite(os.path.join(mask_folder, itr.replace(\"*\", \"_\") + \".png\") , mask)    \n",
    "    else:\n",
    "        cv2.imwrite(os.path.join(mask_folder, itr + \".png\") , mask)\n",
    "        \n",
    "print(\"Images saved:\", count)\n"
   ]
  },
  {
   "cell_type": "code",
   "execution_count": null,
   "metadata": {},
   "outputs": [],
   "source": []
  }
 ],
 "metadata": {
  "kernelspec": {
   "display_name": "Python 3",
   "language": "python",
   "name": "python3"
  },
  "language_info": {
   "codemirror_mode": {
    "name": "ipython",
    "version": 3
   },
   "file_extension": ".py",
   "mimetype": "text/x-python",
   "name": "python",
   "nbconvert_exporter": "python",
   "pygments_lexer": "ipython3",
   "version": "3.6.9"
  }
 },
 "nbformat": 4,
 "nbformat_minor": 2
}
